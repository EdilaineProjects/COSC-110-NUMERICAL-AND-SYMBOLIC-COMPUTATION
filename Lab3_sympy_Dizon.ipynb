{
  "nbformat": 4,
  "nbformat_minor": 0,
  "metadata": {
    "colab": {
      "provenance": [],
      "authorship_tag": "ABX9TyNPGQdLo3VioP9YojVyzj08",
      "include_colab_link": true
    },
    "kernelspec": {
      "name": "python3",
      "display_name": "Python 3"
    },
    "language_info": {
      "name": "python"
    }
  },
  "cells": [
    {
      "cell_type": "markdown",
      "metadata": {
        "id": "view-in-github",
        "colab_type": "text"
      },
      "source": [
        "<a href=\"https://colab.research.google.com/github/EdilaineProjects/COSC-110-NUMERICAL-AND-SYMBOLIC-COMPUTATION/blob/main/Lab3_sympy_Dizon.ipynb\" target=\"_parent\"><img src=\"https://colab.research.google.com/assets/colab-badge.svg\" alt=\"Open In Colab\"/></a>"
      ]
    },
    {
      "cell_type": "markdown",
      "source": [
        "### Task # 1: Include all necessary sympy modules"
      ],
      "metadata": {
        "id": "ZFz3woD_iLWT"
      }
    },
    {
      "cell_type": "code",
      "source": [
        "# Task 1: Imports\n",
        "from sympy import symbols, Rational, sqrt, simplify, expand, Eq, pprint, init_printing\n",
        "init_printing(use_unicode=True)"
      ],
      "metadata": {
        "id": "N3zzyerOiSWR"
      },
      "execution_count": 23,
      "outputs": []
    },
    {
      "cell_type": "markdown",
      "source": [
        "### Task # 2: Basic calculation"
      ],
      "metadata": {
        "id": "Pp4ViDJ6l0WS"
      }
    },
    {
      "cell_type": "code",
      "source": [
        "# Task 2A\n",
        "from sympy import Rational, sqrt, pprint\n",
        "expr = Rational(5, 3) + sqrt(10)/2\n",
        "\n",
        "print(\"Symbolic:\")\n",
        "pprint(expr)\n",
        "print(\"Numeric:\")\n",
        "pprint(expr.evalf())\n",
        "\n"
      ],
      "metadata": {
        "colab": {
          "base_uri": "https://localhost:8080/"
        },
        "id": "lU1YjENvnUyt",
        "outputId": "91c86a07-b2f1-4e94-cb86-96111ccc3648"
      },
      "execution_count": 33,
      "outputs": [
        {
          "output_type": "stream",
          "name": "stdout",
          "text": [
            "Symbolic:\n",
            "√10   5\n",
            "─── + ─\n",
            " 2    3\n",
            "Numeric:\n",
            "3.24780549675086\n"
          ]
        }
      ]
    },
    {
      "cell_type": "code",
      "source": [
        "# Task 2B\n",
        "from sympy import Rational, sqrt, pprint\n",
        "\n",
        "expr = sqrt(50) * sqrt(5) / 9\n",
        "\n",
        "print(\"Symbolic:\")\n",
        "pprint(expr)\n",
        "print(\"Numeric:\")\n",
        "pprint(expr.evalf())\n",
        "\n",
        "\n"
      ],
      "metadata": {
        "colab": {
          "base_uri": "https://localhost:8080/"
        },
        "id": "1uI3MHNRq9bt",
        "outputId": "b580999c-ebc0-473b-d11a-4e984e4686e4"
      },
      "execution_count": 32,
      "outputs": [
        {
          "output_type": "stream",
          "name": "stdout",
          "text": [
            "Symbolic:\n",
            "5⋅√10\n",
            "─────\n",
            "  9  \n",
            "Numeric:\n",
            "1.75682092231577\n"
          ]
        }
      ]
    },
    {
      "cell_type": "markdown",
      "source": [
        "### Task # 3: Symbols"
      ],
      "metadata": {
        "id": "iq8JQeTCrQy6"
      }
    },
    {
      "cell_type": "code",
      "source": [
        "from sympy import symbols, Eq, pprint\n",
        "\n",
        "# Task A\n",
        "x, y = symbols('x y')\n",
        "eq1 = Eq(2*x + 3*y, 12)\n",
        "\n",
        "pprint(eq1)"
      ],
      "metadata": {
        "colab": {
          "base_uri": "https://localhost:8080/"
        },
        "id": "I7vyCHkJrB29",
        "outputId": "dda7fafb-26b4-4fb4-b1b5-54976f2556e3"
      },
      "execution_count": 48,
      "outputs": [
        {
          "output_type": "stream",
          "name": "stdout",
          "text": [
            "2⋅x + 3⋅y = 12\n"
          ]
        }
      ]
    },
    {
      "cell_type": "code",
      "source": [
        "from sympy import symbols, Eq, pprint\n",
        "\n",
        "# Task B\n",
        "x, y = symbols('x y')\n",
        "eq2 = Eq(x - y, 4)\n",
        "\n",
        "pprint(eq2)"
      ],
      "metadata": {
        "colab": {
          "base_uri": "https://localhost:8080/"
        },
        "id": "PYzX86corvbq",
        "outputId": "60370e44-946a-4e2c-d680-a947aef6638b"
      },
      "execution_count": 47,
      "outputs": [
        {
          "output_type": "stream",
          "name": "stdout",
          "text": [
            "x - y = 4\n"
          ]
        }
      ]
    },
    {
      "cell_type": "markdown",
      "source": [
        "### Task # 3: Simplification"
      ],
      "metadata": {
        "id": "usbrPcM_ynYZ"
      }
    },
    {
      "cell_type": "code",
      "source": [
        "from sympy import symbols, simplify\n",
        "\n",
        "# Task A\n",
        "x = symbols('x')\n",
        "expr = (x**2 + 2*x + 1)/(x + 1)\n",
        "\n",
        "result = simplify(expr)\n",
        "print(result)\n"
      ],
      "metadata": {
        "colab": {
          "base_uri": "https://localhost:8080/"
        },
        "id": "iN3DGDuvyi5f",
        "outputId": "ec8ee2c1-5341-4b89-9e01-42b019b3e1fe"
      },
      "execution_count": 38,
      "outputs": [
        {
          "output_type": "stream",
          "name": "stdout",
          "text": [
            "x + 1\n"
          ]
        }
      ]
    },
    {
      "cell_type": "code",
      "source": [
        "from sympy import symbols, simplify, pprint\n",
        "\n",
        "x = symbols('x')\n",
        "inner = 1 + 1/x\n",
        "expr = (1 - 1/inner) / inner\n",
        "\n",
        "simplified = simplify(expr)\n",
        "\n",
        "pprint(simplified)"
      ],
      "metadata": {
        "colab": {
          "base_uri": "https://localhost:8080/"
        },
        "id": "vpM5TTXZy2y_",
        "outputId": "5c42b62e-dc11-4249-db88-78f50da990f3"
      },
      "execution_count": 46,
      "outputs": [
        {
          "output_type": "stream",
          "name": "stdout",
          "text": [
            "   x    \n",
            "────────\n",
            "       2\n",
            "(x + 1) \n"
          ]
        }
      ]
    },
    {
      "cell_type": "markdown",
      "source": [
        "### Task # 4: Expansion\n"
      ],
      "metadata": {
        "id": "EPnvgnigzHbi"
      }
    },
    {
      "cell_type": "code",
      "source": [
        "from sympy import symbols, expand, pprint\n",
        "\n",
        "x = symbols('x')\n",
        "expr = (2*x + 2)**2\n",
        "\n",
        "expanded = expand(expr)\n",
        "\n",
        "pprint(expanded)\n"
      ],
      "metadata": {
        "colab": {
          "base_uri": "https://localhost:8080/"
        },
        "id": "EqTgOqe_y73p",
        "outputId": "737fe234-e48f-456d-fdcd-baea693f7224"
      },
      "execution_count": 44,
      "outputs": [
        {
          "output_type": "stream",
          "name": "stdout",
          "text": [
            "   2          \n",
            "4⋅x  + 8⋅x + 4\n"
          ]
        }
      ]
    },
    {
      "cell_type": "code",
      "source": [
        "from sympy import symbols, expand, pprint\n",
        "\n",
        "x, y = symbols('x y')\n",
        "expr = (2*x + y)*(x - 2*y)\n",
        "\n",
        "expanded = expand(expr)\n",
        "\n",
        "pprint(expanded)"
      ],
      "metadata": {
        "colab": {
          "base_uri": "https://localhost:8080/"
        },
        "id": "76mxWDnKzLde",
        "outputId": "4f2a9107-2fa2-4c9d-e29e-355446eaa27a"
      },
      "execution_count": 45,
      "outputs": [
        {
          "output_type": "stream",
          "name": "stdout",
          "text": [
            "   2              2\n",
            "2⋅x  - 3⋅x⋅y - 2⋅y \n"
          ]
        }
      ]
    },
    {
      "cell_type": "code",
      "source": [],
      "metadata": {
        "id": "0VZoPZ6tzVlc"
      },
      "execution_count": null,
      "outputs": []
    }
  ]
}