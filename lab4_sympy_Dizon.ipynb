{
  "cells": [
    {
      "cell_type": "markdown",
      "metadata": {
        "id": "view-in-github",
        "colab_type": "text"
      },
      "source": [
        "<a href=\"https://colab.research.google.com/github/EdilaineProjects/COSC-110-NUMERICAL-AND-SYMBOLIC-COMPUTATION/blob/main/lab4_sympy_Dizon.ipynb\" target=\"_parent\"><img src=\"https://colab.research.google.com/assets/colab-badge.svg\" alt=\"Open In Colab\"/></a>"
      ]
    },
    {
      "cell_type": "markdown",
      "source": [
        "# Exploring Calculus with SymPy\n",
        "\n",
        "## Activity Instructions\n",
        "This activity is designed to help you explore how Python can be used to understand basic ideas in calculus — without needing to do any complex math.\n",
        "\n",
        "Use the Python code snippets provided to experiment and answer the questions."
      ],
      "metadata": {
        "id": "epXjlyn6ZAlm"
      },
      "id": "epXjlyn6ZAlm"
    },
    {
      "cell_type": "code",
      "source": [
        "from sympy import *"
      ],
      "metadata": {
        "id": "vZ0V7WGLXr9O"
      },
      "id": "vZ0V7WGLXr9O",
      "execution_count": 2,
      "outputs": []
    },
    {
      "cell_type": "markdown",
      "source": [
        "---\n",
        "## Playing with Symbols\n",
        "\n",
        "Try running this code:"
      ],
      "metadata": {
        "id": "RPFHhyHsYhGm"
      },
      "id": "RPFHhyHsYhGm"
    },
    {
      "cell_type": "code",
      "source": [
        "x = symbols('x')\n",
        "x + x"
      ],
      "metadata": {
        "id": "A92JlyDyYixm",
        "colab": {
          "base_uri": "https://localhost:8080/",
          "height": 39
        },
        "outputId": "cf854424-6ea8-43af-e9fd-4d284ff19d35"
      },
      "id": "A92JlyDyYixm",
      "execution_count": 3,
      "outputs": [
        {
          "output_type": "execute_result",
          "data": {
            "text/plain": [
              "2*x"
            ],
            "text/latex": "$\\displaystyle 2 x$"
          },
          "metadata": {},
          "execution_count": 3
        }
      ]
    },
    {
      "cell_type": "markdown",
      "source": [
        "**1. What do you think 'x + x' means?** (Answers below):"
      ],
      "metadata": {
        "id": "PX2gRq34YloO"
      },
      "id": "PX2gRq34YloO"
    },
    {
      "cell_type": "markdown",
      "source": [
        "The result when i run the code is 2x. X + X means this adds the symbolic variable x to itself. In algebra, combining like terms, it simplifies to 2*x. It demonstrates symbolic addition, the process of manipulating an expression without assigning a numerical value to x."
      ],
      "metadata": {
        "id": "quHEsSmbDUSh"
      },
      "id": "quHEsSmbDUSh"
    },
    {
      "cell_type": "markdown",
      "source": [
        "Now try this:"
      ],
      "metadata": {
        "id": "yVF3ZEOoYwZe"
      },
      "id": "yVF3ZEOoYwZe"
    },
    {
      "cell_type": "code",
      "source": [
        "x * x"
      ],
      "metadata": {
        "id": "bxUoWvBmYulL",
        "colab": {
          "base_uri": "https://localhost:8080/",
          "height": 39
        },
        "outputId": "c42991ab-2bde-458d-873b-3ffd37bb6744"
      },
      "id": "bxUoWvBmYulL",
      "execution_count": 4,
      "outputs": [
        {
          "output_type": "execute_result",
          "data": {
            "text/plain": [
              "x**2"
            ],
            "text/latex": "$\\displaystyle x^{2}$"
          },
          "metadata": {},
          "execution_count": 4
        }
      ]
    },
    {
      "cell_type": "markdown",
      "source": [
        "**2. What does `x * x` represent?** (Answers below):   "
      ],
      "metadata": {
        "id": "WTpPkyAlY1p1"
      },
      "id": "WTpPkyAlY1p1"
    },
    {
      "cell_type": "markdown",
      "source": [
        "The result when i run the equation is x^2. Multiplying x by x is the symbolic equivalent of squaring a number. Just as 3 multiplied by 3 gives 9, x * x gives you x². In algebra, this is a very common operation and represents the idea that you’re raising x to the second power."
      ],
      "metadata": {
        "id": "MH_lJpa-EcbR"
      },
      "id": "MH_lJpa-EcbR"
    },
    {
      "cell_type": "markdown",
      "source": [
        "---\n",
        "## Exploring Limits\n",
        "\n",
        "Try this code:"
      ],
      "metadata": {
        "id": "QiSJjx_VHq1p"
      },
      "id": "QiSJjx_VHq1p"
    },
    {
      "cell_type": "code",
      "source": [
        "limit(sin(x)/x, x, 0)"
      ],
      "metadata": {
        "id": "7JRyFVohH7UO",
        "colab": {
          "base_uri": "https://localhost:8080/",
          "height": 37
        },
        "outputId": "0e768579-b933-4d82-8c3a-6742d2de4d3a"
      },
      "id": "7JRyFVohH7UO",
      "execution_count": 5,
      "outputs": [
        {
          "output_type": "execute_result",
          "data": {
            "text/plain": [
              "1"
            ],
            "text/latex": "$\\displaystyle 1$"
          },
          "metadata": {},
          "execution_count": 5
        }
      ]
    },
    {
      "cell_type": "markdown",
      "source": [
        "**3. What result do you get? What do you think it means?** (Answers below)"
      ],
      "metadata": {
        "id": "ywTipXNaH5VC"
      },
      "id": "ywTipXNaH5VC"
    },
    {
      "cell_type": "markdown",
      "source": [
        "When i run the code: limit(sin(x)/x, x, 0)\n",
        "The result is 1.\n",
        "It means At first, if you try to plug in 0 directly, you might run into the confusing \"0/0\" situation. But limits help us see the bigger picture. What it’s really saying is that as x gets infinitesimally close to 0, even though you can’t plug in 0 directly, the ratio of sin(x) to x settles down to 1."
      ],
      "metadata": {
        "id": "LQ6ut8-IExn1"
      },
      "id": "LQ6ut8-IExn1"
    },
    {
      "cell_type": "markdown",
      "source": [
        "---\n",
        "## Playing with Derivatives\n",
        "\n",
        "Run this:"
      ],
      "metadata": {
        "id": "_0bSbQm5IPe3"
      },
      "id": "_0bSbQm5IPe3"
    },
    {
      "cell_type": "code",
      "source": [
        "diff(x**2, x)"
      ],
      "metadata": {
        "id": "ODeV9TfcISxy",
        "colab": {
          "base_uri": "https://localhost:8080/",
          "height": 39
        },
        "outputId": "6f38847e-0919-4783-f435-ae9cfbc84a67"
      },
      "id": "ODeV9TfcISxy",
      "execution_count": 6,
      "outputs": [
        {
          "output_type": "execute_result",
          "data": {
            "text/plain": [
              "2*x"
            ],
            "text/latex": "$\\displaystyle 2 x$"
          },
          "metadata": {},
          "execution_count": 6
        }
      ]
    },
    {
      "cell_type": "markdown",
      "source": [
        "**4. What is the output? Can you describe what it tells you?** (Answers below)"
      ],
      "metadata": {
        "id": "zkB8nUcCIVWK"
      },
      "id": "zkB8nUcCIVWK"
    },
    {
      "cell_type": "markdown",
      "source": [
        "Calculating the derivative of x^2 with respect to x using diff(x^2, x) gives you 2x.\n",
        "Think of a derivative as the speedometer of a function—it tells you how fast something is changing at any given moment. For the function x², the speed increases as x increases; that’s why you see a factor of 2x. It’s a window into how rubbing one side of the equation against a small change in x reveals the underlying “slope” or steepness of the curve"
      ],
      "metadata": {
        "id": "dRcIdDHMFozL"
      },
      "id": "dRcIdDHMFozL"
    },
    {
      "cell_type": "markdown",
      "source": [
        "---\n",
        "\n",
        "## 4. Series Expansion\n",
        "\n",
        "Run this code:"
      ],
      "metadata": {
        "id": "MuBEwsMjHvaE"
      },
      "id": "MuBEwsMjHvaE"
    },
    {
      "cell_type": "code",
      "source": [
        "exp(x).series(x, 0, 4)"
      ],
      "metadata": {
        "id": "cfjBnBRDI_zz",
        "colab": {
          "base_uri": "https://localhost:8080/",
          "height": 54
        },
        "outputId": "d37a6b56-ed6b-46a9-8c29-413e84295a12"
      },
      "id": "cfjBnBRDI_zz",
      "execution_count": 7,
      "outputs": [
        {
          "output_type": "execute_result",
          "data": {
            "text/plain": [
              "1 + x + x**2/2 + x**3/6 + O(x**4)"
            ],
            "text/latex": "$\\displaystyle 1 + x + \\frac{x^{2}}{2} + \\frac{x^{3}}{6} + O\\left(x^{4}\\right)$"
          },
          "metadata": {},
          "execution_count": 7
        }
      ]
    },
    {
      "cell_type": "markdown",
      "source": [
        "**5. What do you see? How many terms are shown in the result?**  (Answers below)"
      ],
      "metadata": {
        "id": "v_kHGdQlJDn0"
      },
      "id": "v_kHGdQlJDn0"
    },
    {
      "cell_type": "markdown",
      "source": [
        "Whe i run the code, the result is 1 + x + x^2/2 + x^3/6 + O(x^4)\n",
        "\n",
        "**1** is the constant term.\n",
        "\n",
        "**x** is the first-order term.\n",
        "\n",
        "**x²/2** is the second-order term.\n",
        "\n",
        "**x³/6** is the third-order term.\n",
        "The **O(x^4)** part tells you that there are additional terms starting from the fourth power, but they’re not shown here. Imagine it like looking at a recipe that lists just the main ingredients you need, with a note that there’s more if you keep cooking. It’s a powerful way to approximate a complex function with just a few simple terms."
      ],
      "metadata": {
        "id": "Pq2K_Ny_Gp4m"
      },
      "id": "Pq2K_Ny_Gp4m"
    },
    {
      "cell_type": "markdown",
      "source": [
        "---\n",
        "\n",
        "## 5. Solving Equations\n",
        "\n",
        "Try solving this equation:"
      ],
      "metadata": {
        "id": "o89x7hPEJSzC"
      },
      "id": "o89x7hPEJSzC"
    },
    {
      "cell_type": "code",
      "source": [
        "solve(Eq(x**2 - 4, 0), x)"
      ],
      "metadata": {
        "id": "nZRx2-FMJVU4",
        "colab": {
          "base_uri": "https://localhost:8080/"
        },
        "outputId": "35518f00-5dd5-45da-c0a8-70844307adb9"
      },
      "id": "nZRx2-FMJVU4",
      "execution_count": 8,
      "outputs": [
        {
          "output_type": "execute_result",
          "data": {
            "text/plain": [
              "[-2, 2]"
            ]
          },
          "metadata": {},
          "execution_count": 8
        }
      ]
    },
    {
      "cell_type": "markdown",
      "source": [
        "**6. What are the answers?** (Answer below)  "
      ],
      "metadata": {
        "id": "BpwkEmDWJZyS"
      },
      "id": "BpwkEmDWJZyS"
    },
    {
      "cell_type": "markdown",
      "source": [
        "[-2, 2]"
      ],
      "metadata": {
        "id": "W1TmfT9NHpcI"
      },
      "id": "W1TmfT9NHpcI"
    },
    {
      "cell_type": "markdown",
      "source": [
        "**7. What kind of problem do you think this is?** (Answer below)"
      ],
      "metadata": {
        "id": "27ZbZbLIJgzK"
      },
      "id": "27ZbZbLIJgzK"
    },
    {
      "cell_type": "markdown",
      "source": [
        "This is a classic quadratic equation problem because it involves a second-degree polynomial (the highest power of x is 2). Solving quadratics is a staple in algebra, and it’s great to see how SymPy handles it symbolically without any hassle."
      ],
      "metadata": {
        "id": "pvZ_IFOOHrlw"
      },
      "id": "pvZ_IFOOHrlw"
    },
    {
      "cell_type": "markdown",
      "metadata": {
        "id": "OuURTQQuXTgj"
      },
      "source": [
        "---\n",
        "\n",
        "## 6. Final Thoughts\n",
        "\n",
        "**8. What was your favorite part of this activity?** (Answer below)\n",
        "\n"
      ],
      "id": "OuURTQQuXTgj"
    },
    {
      "cell_type": "markdown",
      "source": [
        "Personally, I like the series expansion part. There’s something about seeing how the exponential function, which at first glance might seem very complex, can be expressed as a sum of simple polynomial terms to make it understandable. It gives you an immediate sense of how these functions work."
      ],
      "metadata": {
        "id": "7cBmifE3H5MF"
      },
      "id": "7cBmifE3H5MF"
    },
    {
      "cell_type": "markdown",
      "source": [
        "**9. What was something new or surprising you learned?**  (Answer below)"
      ],
      "metadata": {
        "id": "CkwbgwxSJu8g"
      },
      "id": "CkwbgwxSJu8g"
    },
    {
      "cell_type": "markdown",
      "source": [
        "I was impressed by how effortlessly SymPy handles intricate calculus operations symbolically. It takes abstract ideas like limits, derivatives, and series expansions and turns them into something concrete and accessible. It was surprising that you can manipulate these symbols directly—making the learning experience not just efficient but also deeply satisfying. It highlights the powerful bridge between algebra and calculus in a way that’s both intuitive and rigorous.\n",
        "The ease with which it computes limits, derivatives, and series expansions highlighted Python’s power in transforming abstract mathematical concepts into tangible, computable expressions.\n"
      ],
      "metadata": {
        "id": "MNZ0sm3lIafL"
      },
      "id": "MNZ0sm3lIafL"
    },
    {
      "cell_type": "code",
      "source": [],
      "metadata": {
        "id": "8pIoI14wJIyE"
      },
      "id": "8pIoI14wJIyE",
      "execution_count": null,
      "outputs": []
    }
  ],
  "metadata": {
    "kernelspec": {
      "display_name": "Python 3",
      "language": "python",
      "name": "python3"
    },
    "language_info": {
      "codemirror_mode": {
        "name": "ipython",
        "version": 3
      },
      "file_extension": ".py",
      "mimetype": "text/x-python",
      "name": "python",
      "nbconvert_exporter": "python",
      "pygments_lexer": "ipython3",
      "version": "3.8.16"
    },
    "colab": {
      "provenance": [],
      "include_colab_link": true
    }
  },
  "nbformat": 4,
  "nbformat_minor": 5
}